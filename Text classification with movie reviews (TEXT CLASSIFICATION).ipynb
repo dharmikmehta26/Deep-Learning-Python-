{
 "cells": [
  {
   "cell_type": "code",
   "execution_count": 1,
   "metadata": {},
   "outputs": [
    {
     "name": "stderr",
     "output_type": "stream",
     "text": [
      "C:\\Users\\winuser\\Anaconda3\\lib\\site-packages\\h5py\\__init__.py:36: FutureWarning: Conversion of the second argument of issubdtype from `float` to `np.floating` is deprecated. In future, it will be treated as `np.float64 == np.dtype(float).type`.\n",
      "  from ._conv import register_converters as _register_converters\n"
     ]
    }
   ],
   "source": [
    "import tensorflow as tf\n",
    "from tensorflow import keras\n",
    "\n",
    "import numpy as np\n"
   ]
  },
  {
   "cell_type": "code",
   "execution_count": 2,
   "metadata": {},
   "outputs": [],
   "source": [
    "imdb=keras.datasets.imdb\n",
    "(train_data,train_labels),(test_data,test_labels)=imdb.load_data(num_words=10000)"
   ]
  },
  {
   "cell_type": "code",
   "execution_count": 3,
   "metadata": {},
   "outputs": [
    {
     "name": "stdout",
     "output_type": "stream",
     "text": [
      "Training entries: 25000,labels: 25000\n"
     ]
    }
   ],
   "source": [
    "print('Training entries: {},labels: {}'.format(len(train_data),len(train_labels)))"
   ]
  },
  {
   "cell_type": "code",
   "execution_count": 4,
   "metadata": {},
   "outputs": [
    {
     "name": "stdout",
     "output_type": "stream",
     "text": [
      "[1, 14, 22, 16, 43, 530, 973, 1622, 1385, 65, 458, 4468, 66, 3941, 4, 173, 36, 256, 5, 25, 100, 43, 838, 112, 50, 670, 2, 9, 35, 480, 284, 5, 150, 4, 172, 112, 167, 2, 336, 385, 39, 4, 172, 4536, 1111, 17, 546, 38, 13, 447, 4, 192, 50, 16, 6, 147, 2025, 19, 14, 22, 4, 1920, 4613, 469, 4, 22, 71, 87, 12, 16, 43, 530, 38, 76, 15, 13, 1247, 4, 22, 17, 515, 17, 12, 16, 626, 18, 2, 5, 62, 386, 12, 8, 316, 8, 106, 5, 4, 2223, 5244, 16, 480, 66, 3785, 33, 4, 130, 12, 16, 38, 619, 5, 25, 124, 51, 36, 135, 48, 25, 1415, 33, 6, 22, 12, 215, 28, 77, 52, 5, 14, 407, 16, 82, 2, 8, 4, 107, 117, 5952, 15, 256, 4, 2, 7, 3766, 5, 723, 36, 71, 43, 530, 476, 26, 400, 317, 46, 7, 4, 2, 1029, 13, 104, 88, 4, 381, 15, 297, 98, 32, 2071, 56, 26, 141, 6, 194, 7486, 18, 4, 226, 22, 21, 134, 476, 26, 480, 5, 144, 30, 5535, 18, 51, 36, 28, 224, 92, 25, 104, 4, 226, 65, 16, 38, 1334, 88, 12, 16, 283, 5, 16, 4472, 113, 103, 32, 15, 16, 5345, 19, 178, 32]\n"
     ]
    }
   ],
   "source": [
    "print(train_data[0])"
   ]
  },
  {
   "cell_type": "code",
   "execution_count": 5,
   "metadata": {},
   "outputs": [
    {
     "data": {
      "text/plain": [
       "(218, 189)"
      ]
     },
     "execution_count": 5,
     "metadata": {},
     "output_type": "execute_result"
    }
   ],
   "source": [
    "len(train_data[0]), len(train_data[1])"
   ]
  },
  {
   "cell_type": "markdown",
   "metadata": {},
   "source": [
    "## Convert the integers back to words"
   ]
  },
  {
   "cell_type": "code",
   "execution_count": 6,
   "metadata": {},
   "outputs": [],
   "source": [
    "# A dictionary mapping words to an integer index\n",
    "word_index =imdb.get_word_index()\n",
    "\n",
    "# the first indices are reserved\n",
    "# this indexes doestnt have any word in word_index so we are replacing it with below words\n",
    "word_index = {k:(v+3) for k,v in word_index.items()}\n",
    "word_index[\"<PAD>\"]=0\n",
    "word_index[\"<START>\"]=1\n",
    "word_index[\"<UNK>\"]=2\n",
    "word_index[\"<UNUSED>\"]=3\n",
    "\n",
    "reverse_word_index=dict([(value,key) for (key,value) in word_index.items()])\n",
    "\n",
    "def decode_review(text):\n",
    "    return ' '.join([reverse_word_index.get(i,'?') for i in text])"
   ]
  },
  {
   "cell_type": "code",
   "execution_count": 7,
   "metadata": {
    "scrolled": false
   },
   "outputs": [],
   "source": [
    "reverse_word_index=dict([(value,key) for (key,value) in word_index.items()])"
   ]
  },
  {
   "cell_type": "code",
   "execution_count": 8,
   "metadata": {
    "scrolled": true
   },
   "outputs": [
    {
     "data": {
      "text/plain": [
       "\"<START> this film was just brilliant casting location scenery story direction everyone's really suited the part they played and you could just imagine being there robert <UNK> is an amazing actor and now the same being director <UNK> father came from the same scottish island as myself so i loved the fact there was a real connection with this film the witty remarks throughout the film were great it was just brilliant so much that i bought the film as soon as it was released for <UNK> and would recommend it to everyone to watch and the fly fishing was amazing really cried at the end it was so sad and you know what they say if you cry at a film it must have been good and this definitely was also <UNK> to the two little boy's that played the <UNK> of norman and paul they were just brilliant children are often left out of the <UNK> list i think because the stars that play them all grown up are such a big profile for the whole film but these children are amazing and should be praised for what they have done don't you think the whole story was so lovely because it was true and was someone's life after all that was shared with us all\""
      ]
     },
     "execution_count": 8,
     "metadata": {},
     "output_type": "execute_result"
    }
   ],
   "source": [
    "decode_review(train_data[0])"
   ]
  },
  {
   "cell_type": "code",
   "execution_count": 10,
   "metadata": {},
   "outputs": [],
   "source": [
    "train_data=keras.preprocessing.sequence.pad_sequences(train_data,value=word_index[\"<PAD>\"],padding='post',maxlen=256)\n",
    "\n",
    "test_data=keras.preprocessing.sequence.pad_sequences(test_data,value=word_index[\"<PAD>\"],padding='post',maxlen=256)"
   ]
  },
  {
   "cell_type": "code",
   "execution_count": 11,
   "metadata": {},
   "outputs": [
    {
     "data": {
      "text/plain": [
       "(256, 256)"
      ]
     },
     "execution_count": 11,
     "metadata": {},
     "output_type": "execute_result"
    }
   ],
   "source": [
    "len(train_data[0]),len(train_data[1])\n"
   ]
  },
  {
   "cell_type": "code",
   "execution_count": 13,
   "metadata": {},
   "outputs": [
    {
     "name": "stdout",
     "output_type": "stream",
     "text": [
      "[   1  194 1153  194 8255   78  228    5    6 1463 4369 5012  134   26\n",
      "    4  715    8  118 1634   14  394   20   13  119  954  189  102    5\n",
      "  207  110 3103   21   14   69  188    8   30   23    7    4  249  126\n",
      "   93    4  114    9 2300 1523    5  647    4  116    9   35 8163    4\n",
      "  229    9  340 1322    4  118    9    4  130 4901   19    4 1002    5\n",
      "   89   29  952   46   37    4  455    9   45   43   38 1543 1905  398\n",
      "    4 1649   26 6853    5  163   11 3215    2    4 1153    9  194  775\n",
      "    7 8255    2  349 2637  148  605    2 8003   15  123  125   68    2\n",
      " 6853   15  349  165 4362   98    5    4  228    9   43    2 1157   15\n",
      "  299  120    5  120  174   11  220  175  136   50    9 4373  228 8255\n",
      "    5    2  656  245 2350    5    4 9837  131  152  491   18    2   32\n",
      " 7464 1212   14    9    6  371   78   22  625   64 1382    9    8  168\n",
      "  145   23    4 1690   15   16    4 1355    5   28    6   52  154  462\n",
      "   33   89   78  285   16  145   95    0    0    0    0    0    0    0\n",
      "    0    0    0    0    0    0    0    0    0    0    0    0    0    0\n",
      "    0    0    0    0    0    0    0    0    0    0    0    0    0    0\n",
      "    0    0    0    0    0    0    0    0    0    0    0    0    0    0\n",
      "    0    0    0    0    0    0    0    0    0    0    0    0    0    0\n",
      "    0    0    0    0]\n"
     ]
    }
   ],
   "source": [
    "print(train_data[1])"
   ]
  },
  {
   "cell_type": "code",
   "execution_count": 14,
   "metadata": {},
   "outputs": [
    {
     "name": "stdout",
     "output_type": "stream",
     "text": [
      "_________________________________________________________________\n",
      "Layer (type)                 Output Shape              Param #   \n",
      "=================================================================\n",
      "embedding (Embedding)        (None, None, 16)          160000    \n",
      "_________________________________________________________________\n",
      "global_average_pooling1d (Gl (None, 16)                0         \n",
      "_________________________________________________________________\n",
      "dense (Dense)                (None, 16)                272       \n",
      "_________________________________________________________________\n",
      "dense_1 (Dense)              (None, 1)                 17        \n",
      "=================================================================\n",
      "Total params: 160,289\n",
      "Trainable params: 160,289\n",
      "Non-trainable params: 0\n",
      "_________________________________________________________________\n"
     ]
    }
   ],
   "source": [
    "vocab_size=10000\n",
    "\n",
    "model=keras.Sequential()\n",
    "model.add(keras.layers.Embedding(vocab_size,16))\n",
    "model.add(keras.layers.GlobalAveragePooling1D())\n",
    "model.add(keras.layers.Dense(16,activation=tf.nn.relu))\n",
    "model.add(keras.layers.Dense(1,activation=tf.nn.sigmoid))\n",
    "\n",
    "model.summary()"
   ]
  },
  {
   "cell_type": "code",
   "execution_count": 15,
   "metadata": {},
   "outputs": [],
   "source": [
    "model.compile(optimizer=tf.train.AdamOptimizer(),loss='binary_crossentropy',metrics=['accuracy'])"
   ]
  },
  {
   "cell_type": "code",
   "execution_count": 16,
   "metadata": {},
   "outputs": [],
   "source": [
    "x_val=train_data[:10000]\n",
    "partial_x_train = train_data[10000:]\n",
    "\n",
    "y_val=train_labels[:10000]\n",
    "partial_y_train=train_labels[10000:]"
   ]
  },
  {
   "cell_type": "code",
   "execution_count": 17,
   "metadata": {},
   "outputs": [
    {
     "name": "stdout",
     "output_type": "stream",
     "text": [
      "Train on 15000 samples, validate on 10000 samples\n",
      "Epoch 1/40\n",
      "15000/15000 [==============================] - 1s 85us/step - loss: 0.7055 - acc: 0.5006 - val_loss: 0.6939 - val_acc: 0.5032\n",
      "Epoch 2/40\n",
      "15000/15000 [==============================] - 1s 57us/step - loss: 0.6916 - acc: 0.5263 - val_loss: 0.6905 - val_acc: 0.5541\n",
      "Epoch 3/40\n",
      "15000/15000 [==============================] - 1s 57us/step - loss: 0.6895 - acc: 0.5719 - val_loss: 0.6890 - val_acc: 0.5264\n",
      "Epoch 4/40\n",
      "15000/15000 [==============================] - 1s 67us/step - loss: 0.6874 - acc: 0.6270 - val_loss: 0.6871 - val_acc: 0.5449\n",
      "Epoch 5/40\n",
      "15000/15000 [==============================] - 1s 66us/step - loss: 0.6849 - acc: 0.5919 - val_loss: 0.6844 - val_acc: 0.7123\n",
      "Epoch 6/40\n",
      "15000/15000 [==============================] - 1s 61us/step - loss: 0.6820 - acc: 0.7180 - val_loss: 0.6813 - val_acc: 0.7326\n",
      "Epoch 7/40\n",
      "15000/15000 [==============================] - 1s 58us/step - loss: 0.6780 - acc: 0.7451 - val_loss: 0.6777 - val_acc: 0.6771\n",
      "Epoch 8/40\n",
      "15000/15000 [==============================] - 1s 59us/step - loss: 0.6730 - acc: 0.7437 - val_loss: 0.6722 - val_acc: 0.7295\n",
      "Epoch 9/40\n",
      "15000/15000 [==============================] - 1s 62us/step - loss: 0.6662 - acc: 0.7695 - val_loss: 0.6651 - val_acc: 0.7474\n",
      "Epoch 10/40\n",
      "15000/15000 [==============================] - 1s 60us/step - loss: 0.6573 - acc: 0.7729 - val_loss: 0.6557 - val_acc: 0.7636\n",
      "Epoch 11/40\n",
      "15000/15000 [==============================] - 1s 61us/step - loss: 0.6462 - acc: 0.7657 - val_loss: 0.6438 - val_acc: 0.7670\n",
      "Epoch 12/40\n",
      "15000/15000 [==============================] - 1s 60us/step - loss: 0.6309 - acc: 0.7829 - val_loss: 0.6285 - val_acc: 0.7713\n",
      "Epoch 13/40\n",
      "15000/15000 [==============================] - 1s 60us/step - loss: 0.6120 - acc: 0.7880 - val_loss: 0.6114 - val_acc: 0.7629\n",
      "Epoch 14/40\n",
      "15000/15000 [==============================] - 1s 60us/step - loss: 0.5899 - acc: 0.7939 - val_loss: 0.5888 - val_acc: 0.7828\n",
      "Epoch 15/40\n",
      "15000/15000 [==============================] - 1s 60us/step - loss: 0.5642 - acc: 0.8023 - val_loss: 0.5636 - val_acc: 0.7923\n",
      "Epoch 16/40\n",
      "15000/15000 [==============================] - 1s 59us/step - loss: 0.5367 - acc: 0.8107 - val_loss: 0.5382 - val_acc: 0.7972\n",
      "Epoch 17/40\n",
      "15000/15000 [==============================] - 1s 64us/step - loss: 0.5076 - acc: 0.8239 - val_loss: 0.5126 - val_acc: 0.8074\n",
      "Epoch 18/40\n",
      "15000/15000 [==============================] - 1s 63us/step - loss: 0.4792 - acc: 0.8337 - val_loss: 0.4873 - val_acc: 0.8159\n",
      "Epoch 19/40\n",
      "15000/15000 [==============================] - 1s 61us/step - loss: 0.4518 - acc: 0.8419 - val_loss: 0.4635 - val_acc: 0.8253\n",
      "Epoch 20/40\n",
      "15000/15000 [==============================] - 1s 63us/step - loss: 0.4263 - acc: 0.8524 - val_loss: 0.4418 - val_acc: 0.8317\n",
      "Epoch 21/40\n",
      "15000/15000 [==============================] - 1s 62us/step - loss: 0.4023 - acc: 0.8606 - val_loss: 0.4219 - val_acc: 0.8404\n",
      "Epoch 22/40\n",
      "15000/15000 [==============================] - 1s 68us/step - loss: 0.3808 - acc: 0.8684 - val_loss: 0.4044 - val_acc: 0.8448\n",
      "Epoch 23/40\n",
      "15000/15000 [==============================] - 1s 65us/step - loss: 0.3618 - acc: 0.8754 - val_loss: 0.3894 - val_acc: 0.8498\n",
      "Epoch 24/40\n",
      "15000/15000 [==============================] - 1s 60us/step - loss: 0.3444 - acc: 0.8810 - val_loss: 0.3759 - val_acc: 0.8556\n",
      "Epoch 25/40\n",
      "15000/15000 [==============================] - 1s 62us/step - loss: 0.3291 - acc: 0.8856 - val_loss: 0.3645 - val_acc: 0.8597\n",
      "Epoch 26/40\n",
      "15000/15000 [==============================] - 1s 62us/step - loss: 0.3154 - acc: 0.8898 - val_loss: 0.3546 - val_acc: 0.8619\n",
      "Epoch 27/40\n",
      "15000/15000 [==============================] - 1s 61us/step - loss: 0.3034 - acc: 0.8923 - val_loss: 0.3460 - val_acc: 0.8643\n",
      "Epoch 28/40\n",
      "15000/15000 [==============================] - 1s 66us/step - loss: 0.2919 - acc: 0.8978 - val_loss: 0.3383 - val_acc: 0.8671\n",
      "Epoch 29/40\n",
      "15000/15000 [==============================] - 1s 60us/step - loss: 0.2817 - acc: 0.8999 - val_loss: 0.3322 - val_acc: 0.8689\n",
      "Epoch 30/40\n",
      "15000/15000 [==============================] - 1s 60us/step - loss: 0.2730 - acc: 0.9013 - val_loss: 0.3264 - val_acc: 0.8717\n",
      "Epoch 31/40\n",
      "15000/15000 [==============================] - 1s 59us/step - loss: 0.2638 - acc: 0.9058 - val_loss: 0.3216 - val_acc: 0.8740\n",
      "Epoch 32/40\n",
      "15000/15000 [==============================] - 1s 59us/step - loss: 0.2564 - acc: 0.9079 - val_loss: 0.3173 - val_acc: 0.8744\n",
      "Epoch 33/40\n",
      "15000/15000 [==============================] - 1s 64us/step - loss: 0.2484 - acc: 0.9115 - val_loss: 0.3136 - val_acc: 0.8749\n",
      "Epoch 34/40\n",
      "15000/15000 [==============================] - 1s 60us/step - loss: 0.2415 - acc: 0.9141 - val_loss: 0.3101 - val_acc: 0.8759\n",
      "Epoch 35/40\n",
      "15000/15000 [==============================] - 1s 60us/step - loss: 0.2354 - acc: 0.9155 - val_loss: 0.3070 - val_acc: 0.8778\n",
      "Epoch 36/40\n",
      "15000/15000 [==============================] - 1s 61us/step - loss: 0.2286 - acc: 0.9188 - val_loss: 0.3044 - val_acc: 0.8770\n",
      "Epoch 37/40\n",
      "15000/15000 [==============================] - 1s 67us/step - loss: 0.2227 - acc: 0.9207 - val_loss: 0.3023 - val_acc: 0.8779\n",
      "Epoch 38/40\n",
      "15000/15000 [==============================] - 1s 71us/step - loss: 0.2172 - acc: 0.9225 - val_loss: 0.2996 - val_acc: 0.8780\n",
      "Epoch 39/40\n",
      "15000/15000 [==============================] - 1s 72us/step - loss: 0.2114 - acc: 0.9251 - val_loss: 0.2977 - val_acc: 0.8789\n",
      "Epoch 40/40\n",
      "15000/15000 [==============================] - 1s 70us/step - loss: 0.2062 - acc: 0.9267 - val_loss: 0.2959 - val_acc: 0.8807\n"
     ]
    }
   ],
   "source": [
    "history = model.fit(partial_x_train,\n",
    "                   partial_y_train,\n",
    "                    epochs=40,\n",
    "                    batch_size=512,\n",
    "                    validation_data=(x_val,y_val),\n",
    "                    verbose=1\n",
    "                   )"
   ]
  },
  {
   "cell_type": "code",
   "execution_count": 18,
   "metadata": {},
   "outputs": [
    {
     "name": "stdout",
     "output_type": "stream",
     "text": [
      "25000/25000 [==============================] - 0s 19us/step\n",
      "[0.3094865099143982, 0.8734]\n"
     ]
    }
   ],
   "source": [
    "results = model.evaluate(test_data,test_labels)\n",
    "print(results)"
   ]
  },
  {
   "cell_type": "code",
   "execution_count": 19,
   "metadata": {},
   "outputs": [
    {
     "data": {
      "text/plain": [
       "dict_keys(['val_loss', 'val_acc', 'loss', 'acc'])"
      ]
     },
     "execution_count": 19,
     "metadata": {},
     "output_type": "execute_result"
    }
   ],
   "source": [
    "history_dict=history.history\n",
    "history_dict.keys()"
   ]
  },
  {
   "cell_type": "code",
   "execution_count": 28,
   "metadata": {},
   "outputs": [
    {
     "data": {
      "image/png": "[encoded data removed]",
      "text/plain": [
       "<Figure size 432x288 with 1 Axes>"
      ]
     },
     "metadata": {},
     "output_type": "display_data"
    }
   ],
   "source": [
    "# plot the training and validation loss for comparison, as well as the training and validation accuracy:\n",
    "import matplotlib.pyplot as plt\n",
    "\n",
    "acc=history.history['acc']\n",
    "val_acc=history.history['val_acc']\n",
    "loss = history.history['loss']\n",
    "val_loss = history.history['val_loss']\n",
    "\n",
    "epochs=range(1,len(acc)+1)\n",
    "\n",
    "# 'bo' is for blue dot\n",
    "plt.plot(epochs,loss,'bo',label='Training loss')\n",
    "\n",
    "#'b' is for solid blue line\n",
    "plt.plot(epochs,val_loss,'b',label='validation loss')\n",
    "plt.title('Training and Validation loss')\n",
    "plt.xlabel('Epochs')\n",
    "plt.ylabel('Loss')\n",
    "plt.legend()\n",
    "plt.show()"
   ]
  },
  {
   "cell_type": "code",
   "execution_count": 26,
   "metadata": {},
   "outputs": [
    {
     "data": {
      "image/png": "[encoded data removed]",
      "text/plain": [
       "<Figure size 432x288 with 1 Axes>"
      ]
     },
     "metadata": {},
     "output_type": "display_data"
    }
   ],
   "source": [
    "plt.clf() #clear figure\n",
    "acc_values = history_dict['acc']\n",
    "val_acc_values=history_dict['val_acc']\n",
    "\n",
    "plt.plot(epochs,acc,'bo',label='Training acc')\n",
    "plt.plot(epochs,val_acc,'b',label='Validation acc')\n",
    "plt.title('Training and validation accuracy')\n",
    "plt.xlabel('Epochs')\n",
    "plt.ylabel('Accuracy')\n",
    "plt.legend()\n",
    "\n",
    "plt.show()"
   ]
  },
  {
   "cell_type": "code",
   "execution_count": null,
   "metadata": {},
   "outputs": [],
   "source": [
    "|"
   ]
  }
 ],
 "metadata": {
  "kernelspec": {
   "display_name": "Python 3",
   "language": "python",
   "name": "python3"
  },
  "language_info": {
   "codemirror_mode": {
    "name": "ipython",
    "version": 3
   },
   "file_extension": ".py",
   "mimetype": "text/x-python",
   "name": "python",
   "nbconvert_exporter": "python",
   "pygments_lexer": "ipython3",
   "version": "3.5.6"
  }
 },
 "nbformat": 4,
 "nbformat_minor": 2
}
